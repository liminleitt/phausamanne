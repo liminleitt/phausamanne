{
 "cells": [
  {
   "cell_type": "markdown",
   "metadata": {},
   "source": [
    "# Activity recognition with accelerometer data\n",
    "\n",
    "This demo shows how the `sklearn_xarray` package works with the `Pipeline` and `GridSearchCV` methods from scikit-learn providing a metadata-aware grid-searchable pipeline mechansism.\n",
    "\n",
    "The package combines the metadata-handling capabilities of `xarray` with the machine-learning framework of `sklearn`. It enables the user to apply preprocessing steps group by group, use transformers that change the number of samples, use metadata directly as labels for classification tasks and more.\n",
    "\n",
    "The example performs activity recognition from raw accelerometer data with a feedforward neural network. It uses the [WISDM activity prediction dataset](http://www.cis.fordham.edu/wisdm/dataset.php) which contains the activities walking, jogging, walking upstairs, walking downstairs, sitting and standing from 36 different subjects."
   ]
  },
  {
   "cell_type": "code",
   "execution_count": 1,
   "metadata": {},
   "outputs": [],
   "source": [
    "import sklearn_xarray.dataarray as da\n",
    "from sklearn_xarray import Target\n",
    "from sklearn_xarray.preprocessing import (Splitter, Sanitizer, Featurizer)\n",
    "\n",
    "from sklearn.preprocessing import StandardScaler, LabelBinarizer\n",
    "from sklearn.neural_network import MLPClassifier\n",
    "from sklearn.model_selection import GroupKFold\n",
    "from sklearn.pipeline import Pipeline, make_pipeline"
   ]
  },
  {
   "cell_type": "markdown",
   "metadata": {},
   "source": [
    "## Load the dataset"
   ]
  },
  {
   "cell_type": "code",
   "execution_count": 2,
   "metadata": {},
   "outputs": [],
   "source": [
    "def get_wisdm(url='http://www.cis.fordham.edu/wisdm/includes/'\n",
    "                  'datasets/latest/WISDM_ar_latest.tar.gz',\n",
    "              folder='.',\n",
    "              file='WISDM_ar_v1.1/WISDM_ar_v1.1_raw.txt',\n",
    "              tmp_file='widsm.tar.gz'):\n",
    "\n",
    "    import os, urllib, tarfile\n",
    "    import pandas as pd\n",
    "    import xarray as xr\n",
    "\n",
    "    if not os.path.isfile(folder + '/' + file):\n",
    "        urllib.request.urlretrieve(url, tmp_file)\n",
    "        tar = tarfile.open(tmp_file)\n",
    "        tar.extractall(folder)\n",
    "        tar.close()\n",
    "        os.remove(tmp_file)\n",
    "\n",
    "    column_names = ['subject', 'activity', 'timestamp', 'x', 'y', 'z']\n",
    "    df = pd.read_csv(folder + '/' + file, header=None, names=column_names,\n",
    "                     comment=';')\n",
    "\n",
    "    time = pd.TimedeltaIndex(start=0, periods=df.shape[0], freq='50ms')\n",
    "\n",
    "    coords = {'subject': ('sample', df.subject),\n",
    "              'activity': ('sample', df.activity),\n",
    "              'sample': time,\n",
    "              'axis': ['x', 'y', 'z']}\n",
    "\n",
    "    X = xr.DataArray(df.iloc[:, 3:6], coords=coords, dims=('sample', 'axis'))\n",
    "\n",
    "    return X"
   ]
  },
  {
   "cell_type": "code",
   "execution_count": 3,
   "metadata": {},
   "outputs": [],
   "source": [
    "X = get_wisdm()"
   ]
  },
  {
   "cell_type": "markdown",
   "metadata": {},
   "source": [
    "## Define the pipeline\n",
    "\n",
    "We define a pipeline with various preprocessing steps and a classifier.\n",
    "\n",
    "The preprocessing consists of splitting the data into segments, removing segments with `nan` values and standardizing.  Since the accelerometer data is three-dimensional but the standardizer and classifier expect a one-dimensional feature vector, we have to vectorize the samples.\n",
    "\n",
    "Finally, we use a feedforward neural network to perform the classification."
   ]
  },
  {
   "cell_type": "code",
   "execution_count": 4,
   "metadata": {},
   "outputs": [],
   "source": [
    "pl = make_pipeline(\n",
    "    Splitter(groupby=['subject', 'activity'], new_dim='timepoints', new_len=30),\n",
    "    Sanitizer(),\n",
    "    Featurizer(),\n",
    "    da.TransformerWrapper(StandardScaler()),\n",
    "    da.EstimatorWrapper(MLPClassifier(hidden_layer_sizes=(100,)), reshapes='features')\n",
    ")"
   ]
  },
  {
   "cell_type": "markdown",
   "metadata": {},
   "source": [
    "The label to classify is the activity which we convert to a binary representation for the classification."
   ]
  },
  {
   "cell_type": "code",
   "execution_count": 7,
   "metadata": {},
   "outputs": [],
   "source": [
    "y = Target('activity', LabelBinarizer(), dims=['feature'])"
   ]
  },
  {
   "cell_type": "markdown",
   "metadata": {},
   "source": [
    "Finally, we fit the pipeline to our dataset."
   ]
  },
  {
   "cell_type": "code",
   "execution_count": 8,
   "metadata": {},
   "outputs": [
    {
     "data": {
      "text/plain": [
       "Pipeline(memory=None,\n",
       "     steps=[('splitter', Splitter(dim='sample', group_dim='sample', groupby=['subject', 'activity'],\n",
       "     keep_coords_as=None, new_dim='timepoints',\n",
       "     new_index_func=<built-in function arange>, new_len=30,\n",
       "     reduce_index='subsample')), ('sanitizer', Sanitizer(dim='sample', group_dim='sample', group...1, validation_fraction=0.1,\n",
       "       verbose=False, warm_start=False),\n",
       "         reshapes='features'))])"
      ]
     },
     "execution_count": 8,
     "metadata": {},
     "output_type": "execute_result"
    }
   ],
   "source": [
    "pl.fit(X, y);"
   ]
  }
 ],
 "metadata": {
  "kernelspec": {
   "display_name": "Python 3",
   "language": "python",
   "name": "python3"
  },
  "language_info": {
   "codemirror_mode": {
    "name": "ipython",
    "version": 3
   },
   "file_extension": ".py",
   "mimetype": "text/x-python",
   "name": "python",
   "nbconvert_exporter": "python",
   "pygments_lexer": "ipython3",
   "version": "3.6.1"
  },
  "varInspector": {
   "cols": {
    "lenName": 16,
    "lenType": 16,
    "lenVar": 40
   },
   "kernels_config": {
    "python": {
     "delete_cmd_postfix": "",
     "delete_cmd_prefix": "del ",
     "library": "var_list.py",
     "varRefreshCmd": "print(var_dic_list())"
    },
    "r": {
     "delete_cmd_postfix": ") ",
     "delete_cmd_prefix": "rm(",
     "library": "var_list.r",
     "varRefreshCmd": "cat(var_dic_list()) "
    }
   },
   "types_to_exclude": [
    "module",
    "function",
    "builtin_function_or_method",
    "instance",
    "_Feature"
   ],
   "window_display": false
  }
 },
 "nbformat": 4,
 "nbformat_minor": 2
}
